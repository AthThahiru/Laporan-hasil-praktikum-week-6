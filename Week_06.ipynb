{
  "nbformat": 4,
  "nbformat_minor": 0,
  "metadata": {
    "colab": {
      "provenance": [],
      "authorship_tag": "ABX9TyOJvSy/s9k9oHj+Pdl18+jl",
      "include_colab_link": true
    },
    "kernelspec": {
      "name": "python3",
      "display_name": "Python 3"
    },
    "language_info": {
      "name": "python"
    }
  },
  "cells": [
    {
      "cell_type": "markdown",
      "metadata": {
        "id": "view-in-github",
        "colab_type": "text"
      },
      "source": [
        "<a href=\"https://colab.research.google.com/github/AthThahiru/Laporan-hasil-praktikum-week-6/blob/main/Week_06.ipynb\" target=\"_parent\"><img src=\"https://colab.research.google.com/assets/colab-badge.svg\" alt=\"Open In Colab\"/></a>"
      ]
    },
    {
      "cell_type": "markdown",
      "source": [
        "# Nyoba-nyoba :p"
      ],
      "metadata": {
        "id": "bBSf61GV6SzJ"
      }
    },
    {
      "cell_type": "code",
      "execution_count": null,
      "metadata": {
        "colab": {
          "base_uri": "https://localhost:8080/"
        },
        "id": "1IzXnaVp4yqY",
        "outputId": "2252746a-2b15-484d-fb5f-3d9a91444276"
      },
      "outputs": [
        {
          "output_type": "stream",
          "name": "stdout",
          "text": [
            "Tahun :  2000\n",
            "Tahun :  2005\n",
            "Tahun :  2009\n"
          ]
        }
      ],
      "source": [
        "tahun  = [2000,2005,2009]\n",
        "n      = len(tahun)\n",
        "\n",
        "for i in range(n)         :\n",
        "    print(\"Tahun : \" , (tahun[i]))"
      ]
    },
    {
      "cell_type": "markdown",
      "source": [],
      "metadata": {
        "id": "XNHeN3Sq6SC7"
      }
    },
    {
      "cell_type": "code",
      "source": [
        "for a in range(-5 , 5)   :\n",
        "    print (a)  # Alphabet blh gnti"
      ],
      "metadata": {
        "colab": {
          "base_uri": "https://localhost:8080/"
        },
        "id": "Zdpvz5TM6Xli",
        "outputId": "e61a4c61-a526-42e3-a6c6-8750b262b164"
      },
      "execution_count": null,
      "outputs": [
        {
          "output_type": "stream",
          "name": "stdout",
          "text": [
            "-5\n",
            "-4\n",
            "-3\n",
            "-2\n",
            "-1\n",
            "0\n",
            "1\n",
            "2\n",
            "3\n",
            "4\n"
          ]
        }
      ]
    },
    {
      "cell_type": "code",
      "source": [
        "for year in tahun :\n",
        "    print (year)"
      ],
      "metadata": {
        "colab": {
          "base_uri": "https://localhost:8080/"
        },
        "id": "G7qPeFuj8UAX",
        "outputId": "22b9ee9c-020b-4526-d156-ecde2512b853"
      },
      "execution_count": null,
      "outputs": [
        {
          "output_type": "stream",
          "name": "stdout",
          "text": [
            "2000\n",
            "2005\n",
            "2009\n"
          ]
        }
      ]
    },
    {
      "cell_type": "code",
      "source": [
        "kotak   = [\"merah\" , \"biru\" , \"hitam\" , \"putih\"]\n",
        "\n",
        "for k in range (0 , 4) :\n",
        "    print (\"Sebelum kotak\" , k , \"adalah warna\" , kotak[k])\n",
        "    kotak[k] = \"ungu\"\n",
        "    print (\"Setelah kotak\" , k , \"adalah\" , kotak[k])"
      ],
      "metadata": {
        "colab": {
          "base_uri": "https://localhost:8080/"
        },
        "id": "wRnrRqnp8t9a",
        "outputId": "1a20e54f-4fc7-43a3-dc51-0ae0802f4aef"
      },
      "execution_count": null,
      "outputs": [
        {
          "output_type": "stream",
          "name": "stdout",
          "text": [
            "Sebelum kotak 0 adalah warna merah\n",
            "Setelah kotak 0 adalah ungu\n",
            "Sebelum kotak 1 adalah warna biru\n",
            "Setelah kotak 1 adalah ungu\n",
            "Sebelum kotak 2 adalah warna hitam\n",
            "Setelah kotak 2 adalah ungu\n",
            "Sebelum kotak 3 adalah warna putih\n",
            "Setelah kotak 3 adalah ungu\n"
          ]
        }
      ]
    },
    {
      "cell_type": "code",
      "source": [
        "warna = [\"merah\" , \"hijau\" , \"biru\" , \"nila\"]\n",
        "\n",
        "for w , warna in enumerate(warna) :\n",
        "   print (w , warna)"
      ],
      "metadata": {
        "colab": {
          "base_uri": "https://localhost:8080/"
        },
        "id": "ccDySVWl-NhO",
        "outputId": "d317cd40-4d70-4042-a262-3f3e7db7da80"
      },
      "execution_count": null,
      "outputs": [
        {
          "output_type": "stream",
          "name": "stdout",
          "text": [
            "0 merah\n",
            "1 hijau\n",
            "2 biru\n",
            "3 nila\n"
          ]
        }
      ]
    },
    {
      "cell_type": "code",
      "source": [
        "data   =  [2001, 2002, 2000, 2005, 2004]\n",
        "\n",
        "d      = 0\n",
        "tahun  = 0\n",
        "\n",
        "while(tahun != 2005) :\n",
        "      tahun  = data[d]\n",
        "      d      = d + 1\n",
        "      print (tahun)\n",
        "\n",
        "print (\"Untuk mencari data 2005 butuh\", d, \"kali perulangan\")"
      ],
      "metadata": {
        "colab": {
          "base_uri": "https://localhost:8080/"
        },
        "id": "HDRho5fH_NVe",
        "outputId": "fb3953c5-95d5-4b59-c741-0ba92c661de4"
      },
      "execution_count": null,
      "outputs": [
        {
          "output_type": "stream",
          "name": "stdout",
          "text": [
            "2001\n",
            "2002\n",
            "2000\n",
            "2005\n",
            "Untuk mencari data 2005 butuh 4 kali perulangan\n"
          ]
        }
      ]
    },
    {
      "cell_type": "markdown",
      "source": [
        "# Latihan 1\n"
      ],
      "metadata": {
        "id": "8N5CPiveMQ94"
      }
    },
    {
      "cell_type": "code",
      "source": [
        "# Membuat kode program *\n",
        "\n",
        "n   = int(input(\"Masukkan angka : \"))\n",
        "\n",
        "for i in range (1, n + 1) :\n",
        "    print (\" \" * (n - i), end = \"\")\n",
        "    print (\"* \" * i)\n"
      ],
      "metadata": {
        "colab": {
          "base_uri": "https://localhost:8080/"
        },
        "id": "dn-Qsjw3N2QI",
        "outputId": "d55cd032-fb2c-4077-ceec-679428187bca"
      },
      "execution_count": null,
      "outputs": [
        {
          "output_type": "stream",
          "name": "stdout",
          "text": [
            "Masukkan angka :6\n",
            "     * \n",
            "    * * \n",
            "   * * * \n",
            "  * * * * \n",
            " * * * * * \n",
            "* * * * * * \n"
          ]
        }
      ]
    },
    {
      "cell_type": "markdown",
      "source": [
        "# Latihan 2"
      ],
      "metadata": {
        "id": "hN-RP88fN2Hi"
      }
    },
    {
      "cell_type": "code",
      "source": [
        "# Membuat kode program angka\n",
        "\n",
        "n       = int(input(\"Masukkan angka : \"))\n",
        "\n",
        "for i in range (1, n + 1)   :\n",
        "    for a in range (0, n - i + 1)  :\n",
        "        print (\" \", end = \"\")\n",
        "\n",
        "    b = 1\n",
        "    for a in range (1, i + 1)  :\n",
        "        print (\" \", b, sep = \"\", end = \"\")\n",
        "        b = b * (i - a) // a\n",
        "    print ()\n"
      ],
      "metadata": {
        "colab": {
          "base_uri": "https://localhost:8080/"
        },
        "id": "QIbAZ5suN8al",
        "outputId": "b66a68ac-a290-4f77-dc07-7a4d0dd59ea1"
      },
      "execution_count": null,
      "outputs": [
        {
          "output_type": "stream",
          "name": "stdout",
          "text": [
            "Masukkan angka : 5\n",
            "      1\n",
            "     1 1\n",
            "    1 2 1\n",
            "   1 3 3 1\n",
            "  1 4 6 4 1\n"
          ]
        }
      ]
    },
    {
      "cell_type": "markdown",
      "source": [
        "# Latihan 3"
      ],
      "metadata": {
        "id": "t-m_tFDmN9gY"
      }
    },
    {
      "cell_type": "code",
      "source": [
        "n        = int(input(\"Masukkan angka : \"))\n",
        "\n",
        "for i in range (1, n + 1)  :\n",
        "   for a in range (0, n - i + 1)  :\n",
        "      print (\" \", end = \"\")\n",
        "\n",
        "   b     = 1\n",
        "   c     = 1\n",
        "   for a in range (1, i + 1)  :\n",
        "      print (\" \", b, sep = \"\", end = \"\")\n",
        "      b  = b * (i - a) // a\n",
        "      c += b\n",
        "      if a != i  :\n",
        "         print (end = \"\")\n",
        "\n",
        "   print (\" =\", c)\n"
      ],
      "metadata": {
        "colab": {
          "base_uri": "https://localhost:8080/"
        },
        "id": "x_7_UZWTOEJv",
        "outputId": "9f217602-d090-43e9-b8f5-685e4f6d3dbb"
      },
      "execution_count": null,
      "outputs": [
        {
          "output_type": "stream",
          "name": "stdout",
          "text": [
            "Masukkan angka : 5\n",
            "      1 = 1\n",
            "     1 1 = 2\n",
            "    1 2 1 = 4\n",
            "   1 3 3 1 = 8\n",
            "  1 4 6 4 1 = 16\n"
          ]
        }
      ]
    }
  ]
}